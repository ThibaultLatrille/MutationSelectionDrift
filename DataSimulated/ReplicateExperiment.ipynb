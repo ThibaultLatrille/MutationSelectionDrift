{
 "cells": [
  {
   "cell_type": "markdown",
   "metadata": {},
   "source": [
    "# Replicate experiments \n",
    "\n",
    "Renaming necessary for compatibility with v1.0 of SimuEvol (executable renaming)"
   ]
  },
  {
   "cell_type": "code",
   "execution_count": null,
   "metadata": {},
   "outputs": [],
   "source": [
    "!cp ../SimuEvol/build/SimuProfile ../SimuEvol/build/SimuDiv\n",
    "!cp ../SimuEvol/build/PolyProfile ../SimuEvol/build/SimuPoly"
   ]
  },
  {
   "cell_type": "markdown",
   "metadata": {},
   "source": [
    "## Simulated dataset\n",
    "\n",
    "Simulations where traits (effective population size, mutation rate, generation time) are fluctuating along each branch during the simulation (traits are changing every generation)."
   ]
  },
  {
   "cell_type": "code",
   "execution_count": null,
   "metadata": {},
   "outputs": [],
   "source": [
    "!python3 simulated_experiment.py --experiment Gen5Ma150L5000 --nbr_cpu 4"
   ]
  },
  {
   "cell_type": "markdown",
   "metadata": {},
   "source": [
    "Other simulations where traits (effective population size, mutation rate, generation time) are considered constant for a specific branch during the simulation (traits are changing for each branch)."
   ]
  },
  {
   "cell_type": "code",
   "execution_count": null,
   "metadata": {},
   "outputs": [],
   "source": [
    "!sed -i 's#BRANCH_WISE_CORRELATION: false#BRANCH_WISE_CORRELATION: true#g' config.yaml"
   ]
  },
  {
   "cell_type": "code",
   "execution_count": null,
   "metadata": {},
   "outputs": [],
   "source": [
    "!python3 simulated_experiment.py --experiment Gen5Ma150L5000BranchWise --nbr_cpu 4"
   ]
  },
  {
   "cell_type": "code",
   "execution_count": null,
   "metadata": {},
   "outputs": [],
   "source": []
  }
 ],
 "metadata": {
  "kernelspec": {
   "display_name": "Python 3",
   "language": "python",
   "name": "python3"
  },
  "language_info": {
   "codemirror_mode": {
    "name": "ipython",
    "version": 3
   },
   "file_extension": ".py",
   "mimetype": "text/x-python",
   "name": "python",
   "nbconvert_exporter": "python",
   "pygments_lexer": "ipython3",
   "version": "3.7.3"
  }
 },
 "nbformat": 4,
 "nbformat_minor": 4
}
