{
 "cells": [
  {
   "cell_type": "markdown",
   "metadata": {},
   "source": [
    "# Replicate experiments \n",
    "\n",
    "## mammalian dataset\n",
    "\n",
    "Parameter of inference (Ncat, number of points, burn-in) are located in config.yaml\n",
    "\n",
    "All the dataset (tree, alignments, ...) *must be* in the folder 'OrthoMan'\n",
    "\n",
    "CDS files (in .ali format) *must be* in the subfolder 'singlegene_alignments'. \n",
    "\n",
    "The list of the alignment filenames *must be* provided trought the parameter '--cds' \n",
    "\n",
    "The filename of the rootedtree (in newick format) *must be* provided trought the parameter '--tree'\n",
    "\n",
    "The user defined prefix of the experiment can be provided trought the parameter '--tree'"
   ]
  },
  {
   "cell_type": "code",
   "execution_count": null,
   "metadata": {
    "scrolled": false
   },
   "outputs": [
    {
     "name": "stdout",
     "output_type": "stream",
     "text": [
      "77 extant species found for the rooted tree/\n",
      "14358 CDS provided.\n",
      "Life-History-Traits file provided (life_history_traits.tsv)\n",
      "Fossil Calibrations file provided (calibs.lht.tsv)\n",
      "77 taxa for replicate 1\n",
      "cd /home/thibault/PolyMutSel/DataEmpirical/Experiments/Ncat50_OrthoMam_rootedtree.lht.nhx_cds.lht.list_Sample36_Replicates6_Id0 && ./snakeslurm.sh\n",
      "\u001b[33mBuilding DAG of jobs...\u001b[0m\n",
      "\u001b[33mUsing shell: /bin/bash\u001b[0m\n",
      "\u001b[33mProvided cores: 4\u001b[0m\n",
      "\u001b[33mRules claiming more threads will be scaled down.\u001b[0m\n",
      "\u001b[33mJob counts:\n",
      "\tcount\tjobs\n",
      "\t1\tall\n",
      "\t1\tall_correlation_matrix\n",
      "\t2\tplot_correlation_matrix\n",
      "\t1\tplot_traces\n",
      "\t1\tplot_trees\n",
      "\t2\tread_trees\n",
      "\t4\trun_inference\n",
      "\t12\u001b[0m\n",
      "\u001b[32m\u001b[0m\n",
      "\u001b[32m[Tue Oct 22 23:32:27 2019]\u001b[0m\n",
      "\u001b[32mrule run_inference:\n",
      "    input: /home/thibault/PolyMutSel/DataEmpirical/Experiments/Ncat50_OrthoMam_rootedtree.lht.nhx_cds.lht.list_Sample36_Replicates6_Id0/aamutsel, /home/thibault/PolyMutSel/DataEmpirical/Experiments/Ncat50_OrthoMam_rootedtree.lht.nhx_cds.lht.list_Sample36_Replicates6_Id0/config.INFERENCE\n",
      "    output: /home/thibault/PolyMutSel/DataEmpirical/Experiments/Ncat50_OrthoMam_rootedtree.lht.nhx_cds.lht.list_Sample36_Replicates6_Id0/aa_False_2_run\n",
      "    log: /home/thibault/PolyMutSel/DataEmpirical/Experiments/Ncat50_OrthoMam_rootedtree.lht.nhx_cds.lht.list_Sample36_Replicates6_Id0/aa_False_2_run.stdout, /home/thibault/PolyMutSel/DataEmpirical/Experiments/Ncat50_OrthoMam_rootedtree.lht.nhx_cds.lht.list_Sample36_Replicates6_Id0/aa_False_2_run.stderr\n",
      "    jobid: 7\n",
      "    benchmark: /home/thibault/PolyMutSel/DataEmpirical/Experiments/Ncat50_OrthoMam_rootedtree.lht.nhx_cds.lht.list_Sample36_Replicates6_Id0/benchmarks.inference.aa_False_2_run.tsv\n",
      "    wildcards: model=aa, polymorphism=False, chain=2\u001b[0m\n",
      "\u001b[32m\u001b[0m\n",
      "\u001b[33m/home/thibault/PolyMutSel/DataEmpirical/Experiments/Ncat50_OrthoMam_rootedtree.lht.nhx_cds.lht.list_Sample36_Replicates6_Id0/aamutsel -a /home/thibault/PolyMutSel/DataEmpirical/Experiments/Ncat50_OrthoMam_rootedtree.lht.nhx_cds.lht.list_Sample36_Replicates6_Id0/CDS.ali -t /home/thibault/PolyMutSel/DataEmpirical/Experiments/Ncat50_OrthoMam_rootedtree.lht.nhx_cds.lht.list_Sample36_Replicates6_Id0/rootedtree.nhx  -u 4000 --precision 12 --ncat 40 /home/thibault/PolyMutSel/DataEmpirical/Experiments/Ncat50_OrthoMam_rootedtree.lht.nhx_cds.lht.list_Sample36_Replicates6_Id0/aa_False_2_run 2> /home/thibault/PolyMutSel/DataEmpirical/Experiments/Ncat50_OrthoMam_rootedtree.lht.nhx_cds.lht.list_Sample36_Replicates6_Id0/aa_False_2_run.stderr 1> /home/thibault/PolyMutSel/DataEmpirical/Experiments/Ncat50_OrthoMam_rootedtree.lht.nhx_cds.lht.list_Sample36_Replicates6_Id0/aa_False_2_run.stdout\u001b[0m\n",
      "\u001b[32m\u001b[0m\n",
      "\u001b[32m[Tue Oct 22 23:32:27 2019]\u001b[0m\n",
      "\u001b[32mrule run_inference:\n",
      "    input: /home/thibault/PolyMutSel/DataEmpirical/Experiments/Ncat50_OrthoMam_rootedtree.lht.nhx_cds.lht.list_Sample36_Replicates6_Id0/nodemutsel, /home/thibault/PolyMutSel/DataEmpirical/Experiments/Ncat50_OrthoMam_rootedtree.lht.nhx_cds.lht.list_Sample36_Replicates6_Id0/config.INFERENCE\n",
      "    output: /home/thibault/PolyMutSel/DataEmpirical/Experiments/Ncat50_OrthoMam_rootedtree.lht.nhx_cds.lht.list_Sample36_Replicates6_Id0/node_False_1_run\n",
      "    log: /home/thibault/PolyMutSel/DataEmpirical/Experiments/Ncat50_OrthoMam_rootedtree.lht.nhx_cds.lht.list_Sample36_Replicates6_Id0/node_False_1_run.stdout, /home/thibault/PolyMutSel/DataEmpirical/Experiments/Ncat50_OrthoMam_rootedtree.lht.nhx_cds.lht.list_Sample36_Replicates6_Id0/node_False_1_run.stderr\n",
      "    jobid: 4\n",
      "    benchmark: /home/thibault/PolyMutSel/DataEmpirical/Experiments/Ncat50_OrthoMam_rootedtree.lht.nhx_cds.lht.list_Sample36_Replicates6_Id0/benchmarks.inference.node_False_1_run.tsv\n",
      "    wildcards: model=node, polymorphism=False, chain=1\u001b[0m\n",
      "\u001b[32m\u001b[0m\n",
      "\u001b[33m/home/thibault/PolyMutSel/DataEmpirical/Experiments/Ncat50_OrthoMam_rootedtree.lht.nhx_cds.lht.list_Sample36_Replicates6_Id0/nodemutsel -a /home/thibault/PolyMutSel/DataEmpirical/Experiments/Ncat50_OrthoMam_rootedtree.lht.nhx_cds.lht.list_Sample36_Replicates6_Id0/CDS.ali -t /home/thibault/PolyMutSel/DataEmpirical/Experiments/Ncat50_OrthoMam_rootedtree.lht.nhx_cds.lht.list_Sample36_Replicates6_Id0/rootedtree.nhx  -u 4000 --precision 12 --ncat 40 --traitsfile /home/thibault/PolyMutSel/DataEmpirical/Experiments/Ncat50_OrthoMam_rootedtree.lht.nhx_cds.lht.list_Sample36_Replicates6_Id0/life_history_traits.tsv --fossils /home/thibault/PolyMutSel/DataEmpirical/Experiments/Ncat50_OrthoMam_rootedtree.lht.nhx_cds.lht.list_Sample36_Replicates6_Id0/calibs.tsv /home/thibault/PolyMutSel/DataEmpirical/Experiments/Ncat50_OrthoMam_rootedtree.lht.nhx_cds.lht.list_Sample36_Replicates6_Id0/node_False_1_run 2> /home/thibault/PolyMutSel/DataEmpirical/Experiments/Ncat50_OrthoMam_rootedtree.lht.nhx_cds.lht.list_Sample36_Replicates6_Id0/node_False_1_run.stderr 1> /home/thibault/PolyMutSel/DataEmpirical/Experiments/Ncat50_OrthoMam_rootedtree.lht.nhx_cds.lht.list_Sample36_Replicates6_Id0/node_False_1_run.stdout\u001b[0m\n",
      "\u001b[32m\u001b[0m\n",
      "\u001b[32m[Tue Oct 22 23:32:27 2019]\u001b[0m\n",
      "\u001b[32mrule run_inference:\n",
      "    input: /home/thibault/PolyMutSel/DataEmpirical/Experiments/Ncat50_OrthoMam_rootedtree.lht.nhx_cds.lht.list_Sample36_Replicates6_Id0/aamutsel, /home/thibault/PolyMutSel/DataEmpirical/Experiments/Ncat50_OrthoMam_rootedtree.lht.nhx_cds.lht.list_Sample36_Replicates6_Id0/config.INFERENCE\n",
      "    output: /home/thibault/PolyMutSel/DataEmpirical/Experiments/Ncat50_OrthoMam_rootedtree.lht.nhx_cds.lht.list_Sample36_Replicates6_Id0/aa_False_1_run\n",
      "    log: /home/thibault/PolyMutSel/DataEmpirical/Experiments/Ncat50_OrthoMam_rootedtree.lht.nhx_cds.lht.list_Sample36_Replicates6_Id0/aa_False_1_run.stdout, /home/thibault/PolyMutSel/DataEmpirical/Experiments/Ncat50_OrthoMam_rootedtree.lht.nhx_cds.lht.list_Sample36_Replicates6_Id0/aa_False_1_run.stderr\n",
      "    jobid: 5\n",
      "    benchmark: /home/thibault/PolyMutSel/DataEmpirical/Experiments/Ncat50_OrthoMam_rootedtree.lht.nhx_cds.lht.list_Sample36_Replicates6_Id0/benchmarks.inference.aa_False_1_run.tsv\n",
      "    wildcards: model=aa, polymorphism=False, chain=1\u001b[0m\n",
      "\u001b[32m\u001b[0m\n",
      "\u001b[33m/home/thibault/PolyMutSel/DataEmpirical/Experiments/Ncat50_OrthoMam_rootedtree.lht.nhx_cds.lht.list_Sample36_Replicates6_Id0/aamutsel -a /home/thibault/PolyMutSel/DataEmpirical/Experiments/Ncat50_OrthoMam_rootedtree.lht.nhx_cds.lht.list_Sample36_Replicates6_Id0/CDS.ali -t /home/thibault/PolyMutSel/DataEmpirical/Experiments/Ncat50_OrthoMam_rootedtree.lht.nhx_cds.lht.list_Sample36_Replicates6_Id0/rootedtree.nhx  -u 4000 --precision 12 --ncat 40 /home/thibault/PolyMutSel/DataEmpirical/Experiments/Ncat50_OrthoMam_rootedtree.lht.nhx_cds.lht.list_Sample36_Replicates6_Id0/aa_False_1_run 2> /home/thibault/PolyMutSel/DataEmpirical/Experiments/Ncat50_OrthoMam_rootedtree.lht.nhx_cds.lht.list_Sample36_Replicates6_Id0/aa_False_1_run.stderr 1> /home/thibault/PolyMutSel/DataEmpirical/Experiments/Ncat50_OrthoMam_rootedtree.lht.nhx_cds.lht.list_Sample36_Replicates6_Id0/aa_False_1_run.stdout\u001b[0m\n",
      "\u001b[32m\u001b[0m\n",
      "\u001b[32m[Tue Oct 22 23:32:27 2019]\u001b[0m\n",
      "\u001b[32mrule run_inference:\n",
      "    input: /home/thibault/PolyMutSel/DataEmpirical/Experiments/Ncat50_OrthoMam_rootedtree.lht.nhx_cds.lht.list_Sample36_Replicates6_Id0/nodemutsel, /home/thibault/PolyMutSel/DataEmpirical/Experiments/Ncat50_OrthoMam_rootedtree.lht.nhx_cds.lht.list_Sample36_Replicates6_Id0/config.INFERENCE\n",
      "    output: /home/thibault/PolyMutSel/DataEmpirical/Experiments/Ncat50_OrthoMam_rootedtree.lht.nhx_cds.lht.list_Sample36_Replicates6_Id0/node_False_2_run\n",
      "    log: /home/thibault/PolyMutSel/DataEmpirical/Experiments/Ncat50_OrthoMam_rootedtree.lht.nhx_cds.lht.list_Sample36_Replicates6_Id0/node_False_2_run.stdout, /home/thibault/PolyMutSel/DataEmpirical/Experiments/Ncat50_OrthoMam_rootedtree.lht.nhx_cds.lht.list_Sample36_Replicates6_Id0/node_False_2_run.stderr\n",
      "    jobid: 6\n",
      "    benchmark: /home/thibault/PolyMutSel/DataEmpirical/Experiments/Ncat50_OrthoMam_rootedtree.lht.nhx_cds.lht.list_Sample36_Replicates6_Id0/benchmarks.inference.node_False_2_run.tsv\n",
      "    wildcards: model=node, polymorphism=False, chain=2\u001b[0m\n",
      "\u001b[32m\u001b[0m\n",
      "\u001b[33m/home/thibault/PolyMutSel/DataEmpirical/Experiments/Ncat50_OrthoMam_rootedtree.lht.nhx_cds.lht.list_Sample36_Replicates6_Id0/nodemutsel -a /home/thibault/PolyMutSel/DataEmpirical/Experiments/Ncat50_OrthoMam_rootedtree.lht.nhx_cds.lht.list_Sample36_Replicates6_Id0/CDS.ali -t /home/thibault/PolyMutSel/DataEmpirical/Experiments/Ncat50_OrthoMam_rootedtree.lht.nhx_cds.lht.list_Sample36_Replicates6_Id0/rootedtree.nhx  -u 4000 --precision 12 --ncat 40 --traitsfile /home/thibault/PolyMutSel/DataEmpirical/Experiments/Ncat50_OrthoMam_rootedtree.lht.nhx_cds.lht.list_Sample36_Replicates6_Id0/life_history_traits.tsv --fossils /home/thibault/PolyMutSel/DataEmpirical/Experiments/Ncat50_OrthoMam_rootedtree.lht.nhx_cds.lht.list_Sample36_Replicates6_Id0/calibs.tsv /home/thibault/PolyMutSel/DataEmpirical/Experiments/Ncat50_OrthoMam_rootedtree.lht.nhx_cds.lht.list_Sample36_Replicates6_Id0/node_False_2_run 2> /home/thibault/PolyMutSel/DataEmpirical/Experiments/Ncat50_OrthoMam_rootedtree.lht.nhx_cds.lht.list_Sample36_Replicates6_Id0/node_False_2_run.stderr 1> /home/thibault/PolyMutSel/DataEmpirical/Experiments/Ncat50_OrthoMam_rootedtree.lht.nhx_cds.lht.list_Sample36_Replicates6_Id0/node_False_2_run.stdout\u001b[0m\n"
     ]
    }
   ],
   "source": [
    "!python3 replicate_experiments.py --prefix Ncat50 --name OrthoMam --tree rootedtree.lht.nhx --cds cds.lht.list --sample 36 --replicate 6 --lht life_history_traits.tsv --calibs calibs.lht.tsv --nbr_cpu 4\n"
   ]
  },
  {
   "cell_type": "markdown",
   "metadata": {},
   "source": [
    "## Primate dataset"
   ]
  },
  {
   "cell_type": "code",
   "execution_count": null,
   "metadata": {},
   "outputs": [],
   "source": [
    "!python3 replicate_experiments.py --prefix Ncat50 --name Primates --tree rootedtree.nhx --sample 14 --replicate 6 --lht life_history_traits.tsv --calibs calibs.tsv --nbr_cpu 4\n"
   ]
  },
  {
   "cell_type": "markdown",
   "metadata": {},
   "source": [
    "## Custom made experiment"
   ]
  },
  {
   "cell_type": "code",
   "execution_count": null,
   "metadata": {},
   "outputs": [],
   "source": [
    "!python3 empirical_experiment.py --prefix Ncat50 --name Primates --tree rootedtree.nhx --cds CDS.ali --lht life_history_traits.tsv --calibs calibs.tsv\n"
   ]
  }
 ],
 "metadata": {
  "kernelspec": {
   "display_name": "Python 3",
   "language": "python",
   "name": "python3"
  },
  "language_info": {
   "codemirror_mode": {
    "name": "ipython",
    "version": 3
   },
   "file_extension": ".py",
   "mimetype": "text/x-python",
   "name": "python",
   "nbconvert_exporter": "python",
   "pygments_lexer": "ipython3",
   "version": "3.7.3"
  }
 },
 "nbformat": 4,
 "nbformat_minor": 2
}
