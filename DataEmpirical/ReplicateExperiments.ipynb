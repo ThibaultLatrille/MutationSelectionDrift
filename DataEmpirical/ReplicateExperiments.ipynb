{
 "cells": [
  {
   "cell_type": "markdown",
   "metadata": {},
   "source": [
    "# Replicate experiments \n",
    "\n",
    "Parameter of inference (Ncat, number of points, burn-in) are located in _config.yaml_\n",
    "\n",
    "All the dataset (tree, alignments, ...) *must be* in the folder given in the parameter '--name'\n",
    "\n",
    "The filename of the rootedtree (in newick format) *must be* provided throught the parameter '--tree'\n",
    "\n",
    "The user defined prefix of the experiment can be provided trought the parameter '--prefix'\n",
    "\n",
    "## Extract alignnments (Isopods & OrthoMam)"
   ]
  },
  {
   "cell_type": "markdown",
   "metadata": {},
   "source": [
    "CDS files (in .ali format) are extracted in the subfolder 'singlegene_alignments'. \n"
   ]
  },
  {
   "cell_type": "code",
   "execution_count": null,
   "metadata": {},
   "outputs": [],
   "source": [
    "!sh ./extract_alignments.sh"
   ]
  },
  {
   "cell_type": "markdown",
   "metadata": {},
   "source": [
    "## mammalian dataset (with replicates)\n",
    "\n",
    "The list of the alignment filenames *must be* provided trought the parameter '--cds' "
   ]
  },
  {
   "cell_type": "code",
   "execution_count": null,
   "metadata": {},
   "outputs": [],
   "source": [
    "!python3 replicate_experiments.py --prefix Cat50 --name OrthoMam --tree rootedtree.lht.nhx --cds cds.highcoverage.list --sample 18 --replicate 4 --lht life_history_traits.tsv --nbr_cpu 4\n"
   ]
  },
  {
   "cell_type": "markdown",
   "metadata": {},
   "source": [
    "## Isopods (with replicates)\n",
    "\n",
    "The list of the alignment filenames *must be* provided trought the parameter '--cds' "
   ]
  },
  {
   "cell_type": "code",
   "execution_count": null,
   "metadata": {},
   "outputs": [],
   "source": [
    "!python3 replicate_experiments.py --prefix Ncat50 --name Isopods --tree rootedtree.nhx --cds cds.highcoverage.list --sample 12 --replicate 4 --nbr_cpu 4\n"
   ]
  },
  {
   "cell_type": "markdown",
   "metadata": {},
   "source": [
    "## Primates (no replicate)"
   ]
  },
  {
   "cell_type": "code",
   "execution_count": null,
   "metadata": {},
   "outputs": [],
   "source": [
    "!python3 empirical_experiment.py --prefix IWCat50LHT --name Primates --cds CDS.ali --tree rootedtree.nhx --lht life_history_traits.tsv --nbr_cpu 4\n"
   ]
  },
  {
   "cell_type": "code",
   "execution_count": null,
   "metadata": {},
   "outputs": [],
   "source": [
    "!python3 empirical_experiment.py --prefix IWCat50LHTCalib --name Primates --cds CDS.ali --tree rootedtree.nhx --lht life_history_traits.tsv --calibs calibs.tsv --nbr_cpu 4\n"
   ]
  },
  {
   "cell_type": "markdown",
   "metadata": {},
   "source": [
    "## Custom made experiment\n",
    "\n",
    "With replicates:"
   ]
  },
  {
   "cell_type": "code",
   "execution_count": 2,
   "metadata": {},
   "outputs": [
    {
     "name": "stdout",
     "output_type": "stream",
     "text": [
      "usage: replicate_experiments.py [-h] [-p PREFIX] -n NAME --tree TREE --cds CDS\n",
      "                                [--sample SAMPLE] [--replicate REPLICATE]\n",
      "                                [--lht LHT] [--calibs CALIBS]\n",
      "                                [--intersection INTERSECTION] [-s SCREEN]\n",
      "                                [-b SBATCH] [-c NBR_CPU]\n",
      "                                [--random_state RANDOM_STATE]\n",
      "\n",
      "optional arguments:\n",
      "  -h, --help            show this help message and exit\n",
      "  -p PREFIX, --prefix PREFIX\n",
      "  -n NAME, --name NAME\n",
      "  --tree TREE\n",
      "  --cds CDS\n",
      "  --sample SAMPLE\n",
      "  --replicate REPLICATE\n",
      "  --lht LHT\n",
      "  --calibs CALIBS\n",
      "  --intersection INTERSECTION\n",
      "  -s SCREEN, --screen SCREEN\n",
      "  -b SBATCH, --sbatch SBATCH\n",
      "  -c NBR_CPU, --nbr_cpu NBR_CPU\n",
      "  --random_state RANDOM_STATE\n"
     ]
    }
   ],
   "source": [
    "!python3 replicate_experiments.py --help"
   ]
  },
  {
   "cell_type": "markdown",
   "metadata": {},
   "source": [
    "Without replicates: "
   ]
  },
  {
   "cell_type": "code",
   "execution_count": 1,
   "metadata": {},
   "outputs": [
    {
     "name": "stdout",
     "output_type": "stream",
     "text": [
      "usage: empirical_experiment.py [-h] [-p PREFIX] -n NAME --cds CDS --tree TREE\n",
      "                               [--lht LHT] [--calibs CALIBS] [-s SCREEN]\n",
      "                               [-b SBATCH] [-c NBR_CPU]\n",
      "\n",
      "optional arguments:\n",
      "  -h, --help            show this help message and exit\n",
      "  -p PREFIX, --prefix PREFIX\n",
      "  -n NAME, --name NAME\n",
      "  --cds CDS\n",
      "  --tree TREE\n",
      "  --lht LHT\n",
      "  --calibs CALIBS\n",
      "  -s SCREEN, --screen SCREEN\n",
      "  -b SBATCH, --sbatch SBATCH\n",
      "  -c NBR_CPU, --nbr_cpu NBR_CPU\n"
     ]
    }
   ],
   "source": [
    "!python3 empirical_experiment.py --help"
   ]
  },
  {
   "cell_type": "markdown",
   "metadata": {},
   "source": [
    "# Analysis of the different replicates"
   ]
  },
  {
   "cell_type": "code",
   "execution_count": null,
   "metadata": {},
   "outputs": [],
   "source": [
    "!cd ../scripts && python3 replicate_analysis.py"
   ]
  },
  {
   "cell_type": "code",
   "execution_count": null,
   "metadata": {},
   "outputs": [],
   "source": []
  }
 ],
 "metadata": {
  "kernelspec": {
   "display_name": "Python 3",
   "language": "python",
   "name": "python3"
  },
  "language_info": {
   "codemirror_mode": {
    "name": "ipython",
    "version": 3
   },
   "file_extension": ".py",
   "mimetype": "text/x-python",
   "name": "python",
   "nbconvert_exporter": "python",
   "pygments_lexer": "ipython3",
   "version": "3.7.3"
  }
 },
 "nbformat": 4,
 "nbformat_minor": 4
}
